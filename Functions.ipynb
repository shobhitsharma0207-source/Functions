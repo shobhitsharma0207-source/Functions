{
  "nbformat": 4,
  "nbformat_minor": 0,
  "metadata": {
    "colab": {
      "provenance": []
    },
    "kernelspec": {
      "name": "python3",
      "display_name": "Python 3"
    },
    "language_info": {
      "name": "python"
    }
  },
  "cells": [
    {
      "cell_type": "code",
      "execution_count": null,
      "metadata": {
        "id": "DBbTNBHtgFfb"
      },
      "outputs": [],
      "source": []
    },
    {
      "cell_type": "markdown",
      "source": [
        "1- What is the difference between a function and a method in Python?\n",
        "Ans- Function is a block of code that perform some specific task. It save time to write code again and again. It means it reusable.\n",
        "\n",
        "def greet(name):\n",
        "    print(\"Welcome in pw skills\",name)\n",
        "greet(\"Shobhit\")\n",
        "\n",
        "Method- A method is also a function, but it is defined inside a class and is associated with an object.\n",
        "\n",
        "class Calculator:\n",
        "    def add(self, a, b):\n",
        "        return a + b\n",
        "calc = Calculator()\n",
        "result = calc.add(2, 3)\n",
        "print(result)\n",
        "\n",
        "2- Explain the concept of function arguments and parameters in Python.\n",
        "Ans- Parameter is place holder and argument is real value.\n",
        "\n",
        "def greets(name): # name is an argument\n",
        "    return (\"welcome in pw skills\",name)\n",
        "greets('shobhit') # shobhit is a parameter\n",
        "\n",
        "3-  What are the different ways to define and call a function in Python?\n",
        "Ans- We can use return and print keyword for call a functions.\n",
        "\n",
        "def greet(name):\n",
        "    print(\"Welcome in pw skills\",name)\n",
        "greet(\"Shobhit\")\n",
        "\n",
        "def greet(name):\n",
        "    return(\"Welcome in pw skills\",name)\n",
        "greet(\"Shobhit\")\n",
        "\n",
        "5-  What is the purpose of the `return` statement in a Python function?\n",
        "Ans- 'return' functon return the value.\n",
        "def add_numbers(a, b):\n",
        "        sum_result = a + b\n",
        "        return sum_result\n",
        "    add_numbers(10,20) # 30\n",
        "\n",
        "\n",
        "6-Explain the concept of generators in Python and how they are defined.\n",
        "\n",
        "Ana- A generator in Python is a special type of function that returns an iterator and allows you to iterate over data one item at a time, without loading the entire data set into memory.\n",
        "\n",
        "def read_file_line_by_line(filename):\n",
        "    with open(filename) as file:\n",
        "        for line in file:\n",
        "            yield line.strip()\n",
        "\n",
        "\n",
        "7- What are the advantages of using generators over regular functions?\n",
        "Ans- Generator is memory effiecient. This not store entore data sequence in memory. It helps to improve performance.\n",
        "\n",
        "def count_up_to(n):\n",
        "    count = 0\n",
        "    while count < n:\n",
        "        yield count\n",
        "        count += 1\n",
        "\n",
        "8- What is a lambda function in Python and when is it typically used?\n",
        "Ans- Lambda function is small annonymus functions. Define by lambda keyword.\n",
        "square = lambda x: x * x\n",
        "print(square(5))\n",
        "\n",
        "9- Explain the purpose and usage of the `map()` function in Python.\n",
        "Ans- The map() function in Python is used to apply a function to every item in an iterable\n",
        "num = [2,4,6,8]\n",
        "square = map(lambda x:x**2 , num)\n",
        "print(list(square))\n",
        "\n",
        "10-  What is the difference between `map()`, `reduce()`, and `filter()` functions in Python?\n",
        "\n",
        "Ans- from functools import reduce\n",
        "\n",
        "# map: square each number\n",
        "map_result = list(map(lambda x: x**2, [1, 2, 3]))      # [1, 4, 9]\n",
        "\n",
        "# filter: keep even numbers\n",
        "filter_result = list(filter(lambda x: x % 2 == 0, [1, 2, 3]))  # [2]\n",
        "\n",
        "# reduce: multiply all numbers\n",
        "reduce_result = reduce(lambda x, y: x * y, [1, 2, 3])  # 6\n",
        "\n",
        "\n",
        "\n",
        "\n"
      ],
      "metadata": {
        "id": "R3fVn2JbgM8F"
      }
    },
    {
      "cell_type": "code",
      "source": [
        "# 1 - Write a Python function that takes a list of numbers as input and returns the sum of all even numbers in\n",
        "#the list.\n",
        "def sum_even_numbers(numbers):\n",
        "    sum_even = 0\n",
        "    for num in numbers:\n",
        "        if num % 2 == 0:\n",
        "            sum_even += num\n",
        "    return sum_even  # Return the total after looping\n",
        "\n",
        "# Now call the function with a list\n",
        "nums = [1, 2, 3, 4, 5, 6]\n",
        "result = sum_even_numbers(nums)\n",
        "print(\"Sum of even numbers:\", result)"
      ],
      "metadata": {
        "id": "pffaTwnpjuSL",
        "colab": {
          "base_uri": "https://localhost:8080/"
        },
        "outputId": "00937811-1133-4309-a1cd-bbd5c1d93033"
      },
      "execution_count": null,
      "outputs": [
        {
          "output_type": "stream",
          "name": "stdout",
          "text": [
            "Sum of even numbers: 12\n"
          ]
        }
      ]
    },
    {
      "cell_type": "code",
      "source": [],
      "metadata": {
        "id": "W158wgLozPvZ"
      },
      "execution_count": null,
      "outputs": []
    },
    {
      "cell_type": "code",
      "source": [
        "#2- Create a Python function that accepts a string and returns the reverse of that string\n",
        "def reverse_string(string):\n",
        "    return string[::-1]\n",
        "\n",
        "string = \"pw skills\"\n",
        "print(reverse_string(string))\n"
      ],
      "metadata": {
        "id": "M-o63X-xjvKc",
        "colab": {
          "base_uri": "https://localhost:8080/"
        },
        "outputId": "f0148695-2bcb-4575-e123-2be5d360357d"
      },
      "execution_count": null,
      "outputs": [
        {
          "output_type": "stream",
          "name": "stdout",
          "text": [
            "slliks wp\n"
          ]
        }
      ]
    },
    {
      "cell_type": "code",
      "source": [
        "#3 Implement a Python function that takes a list of integers and returns a new list containing the squares of\n",
        "#each number\n",
        "def square_numbers(numbers):\n",
        "    return [num ** 2 for num in numbers]\n",
        "\n",
        "numbers = [1, 2, 3, 4, 5]\n",
        "print(square_numbers(numbers))\n"
      ],
      "metadata": {
        "id": "OW37_7dejvMk",
        "colab": {
          "base_uri": "https://localhost:8080/"
        },
        "outputId": "38c1a22a-9941-4aca-f2b4-1665e50121bb"
      },
      "execution_count": null,
      "outputs": [
        {
          "output_type": "stream",
          "name": "stdout",
          "text": [
            "[1, 4, 9, 16, 25]\n"
          ]
        }
      ]
    },
    {
      "cell_type": "code",
      "source": [
        "#4 Write a Python function that checks if a given number is prime or not from 1 to 200.\n",
        "def is_prime(num):\n",
        "    if num < 2:\n",
        "        return False\n",
        "    for i in range(2, int(num ** 0.5) + 1):\n",
        "        if num % i == 0:\n",
        "            return False\n",
        "    return True\n",
        "def check_prime_numbers():\n",
        "    return [num for num in range(1, 201) if is_prime(num)]\n",
        "\n",
        "prime_numbers = check_prime_numbers()\n",
        "print(prime_numbers)"
      ],
      "metadata": {
        "id": "OmepT87ijvQY",
        "colab": {
          "base_uri": "https://localhost:8080/"
        },
        "outputId": "0037764d-af81-4d7b-e8db-0c7281325675"
      },
      "execution_count": null,
      "outputs": [
        {
          "output_type": "stream",
          "name": "stdout",
          "text": [
            "[2, 3, 5, 7, 11, 13, 17, 19, 23, 29, 31, 37, 41, 43, 47, 53, 59, 61, 67, 71, 73, 79, 83, 89, 97, 101, 103, 107, 109, 113, 127, 131, 137, 139, 149, 151, 157, 163, 167, 173, 179, 181, 191, 193, 197, 199]\n"
          ]
        }
      ]
    },
    {
      "cell_type": "code",
      "source": [
        "#5 Create an iterator class in Python that generates the Fibonacci sequence up to a specified number of\n",
        "#terms.\n",
        "class FibonacciIterator:\n",
        "    def __init__(self, limit):\n",
        "        self.limit = limit\n",
        "        self.a, self.b = 0, 1\n",
        "        self.count = 0\n",
        "        print(self.count)\n",
        "\n"
      ],
      "metadata": {
        "id": "A9zXSmOf3_ke"
      },
      "execution_count": null,
      "outputs": []
    },
    {
      "cell_type": "code",
      "source": [
        "#6 Write a generator function in Python that yields the powers of 2 up to a given exponent.\n",
        "def square_number(n):\n",
        "    result = []\n",
        "    for i in n:\n",
        "        result.append(i ** 2)\n",
        "    return result\n",
        "square_number([2, 4, 7])"
      ],
      "metadata": {
        "id": "C-VQbFAp5jne",
        "colab": {
          "base_uri": "https://localhost:8080/"
        },
        "outputId": "60742655-b237-400f-898f-64cd3bc6bd1b"
      },
      "execution_count": 20,
      "outputs": [
        {
          "output_type": "execute_result",
          "data": {
            "text/plain": [
              "[4, 16, 49]"
            ]
          },
          "metadata": {},
          "execution_count": 20
        }
      ]
    },
    {
      "cell_type": "code",
      "source": [
        "#7  Implement a generator function that reads a file line by line and yields each line as a string.\n",
        "def square_number_generators(n):\n",
        "    for i in range(n):\n",
        "        yield i**2\n",
        "gen = square_number_generators(10)\n",
        "gen"
      ],
      "metadata": {
        "id": "Go6kJRch6U4l",
        "colab": {
          "base_uri": "https://localhost:8080/"
        },
        "outputId": "3274ff1c-c111-4e95-8ac2-91f8c68d8da4"
      },
      "execution_count": 22,
      "outputs": [
        {
          "output_type": "execute_result",
          "data": {
            "text/plain": [
              "<generator object square_number_generators at 0x7f39d91a7e00>"
            ]
          },
          "metadata": {},
          "execution_count": 22
        }
      ]
    },
    {
      "cell_type": "code",
      "source": [
        "next(gen)"
      ],
      "metadata": {
        "colab": {
          "base_uri": "https://localhost:8080/"
        },
        "id": "FdGmSoVMjEHO",
        "outputId": "0112cf1e-160d-47da-c4de-ad5bf6c77db5"
      },
      "execution_count": 23,
      "outputs": [
        {
          "output_type": "execute_result",
          "data": {
            "text/plain": [
              "0"
            ]
          },
          "metadata": {},
          "execution_count": 23
        }
      ]
    },
    {
      "cell_type": "code",
      "source": [
        "next(gen)"
      ],
      "metadata": {
        "colab": {
          "base_uri": "https://localhost:8080/"
        },
        "id": "UCBslvCWk4O3",
        "outputId": "3ce411e1-ca66-40c6-f7a2-699a85d97dc8"
      },
      "execution_count": 24,
      "outputs": [
        {
          "output_type": "execute_result",
          "data": {
            "text/plain": [
              "1"
            ]
          },
          "metadata": {},
          "execution_count": 24
        }
      ]
    },
    {
      "cell_type": "code",
      "source": [
        "next(gen)"
      ],
      "metadata": {
        "colab": {
          "base_uri": "https://localhost:8080/"
        },
        "id": "S5QUUimzk6Lb",
        "outputId": "e4ffb3ef-65b9-490f-a48e-27cfa462cf42"
      },
      "execution_count": 25,
      "outputs": [
        {
          "output_type": "execute_result",
          "data": {
            "text/plain": [
              "4"
            ]
          },
          "metadata": {},
          "execution_count": 25
        }
      ]
    },
    {
      "cell_type": "code",
      "source": [
        "#8  Use a lambda function in Python to sort a list of tuples based on the second element of each tuple\n",
        "x = [\"Python\", \"Data Science\", \"Ajay\"]\n",
        "x\n",
        "sorted(x,key=lambda x:x[1])\n"
      ],
      "metadata": {
        "colab": {
          "base_uri": "https://localhost:8080/"
        },
        "id": "6xY7XCDJlGC6",
        "outputId": "c8806881-ec3b-440a-e175-c9017cf3dd22"
      },
      "execution_count": 32,
      "outputs": [
        {
          "output_type": "execute_result",
          "data": {
            "text/plain": [
              "['Data Science', 'Ajay', 'Python']"
            ]
          },
          "metadata": {},
          "execution_count": 32
        }
      ]
    },
    {
      "cell_type": "code",
      "source": [
        "#9 9. Write a Python program that uses `map()` to convert a list of temperatures from Celsius to Fahrenheit.\n",
        "celsius_temps = [0, 20, 37, 100]\n",
        "fahrenheit_temps = list(map(lambda c: (c * 9/5) + 32, celsius_temps))\n",
        "print(\"Celsius temperatures:\", celsius_temps)\n",
        "print(\"Fahrenheit temperatures:\", fahrenheit_temps)"
      ],
      "metadata": {
        "colab": {
          "base_uri": "https://localhost:8080/"
        },
        "id": "p5Lk1mGImyTn",
        "outputId": "7f2470c6-5013-4155-e687-bf4c068d7331"
      },
      "execution_count": 36,
      "outputs": [
        {
          "output_type": "stream",
          "name": "stdout",
          "text": [
            "Celsius temperatures: [0, 20, 37, 100]\n",
            "Fahrenheit temperatures: [32.0, 68.0, 98.6, 212.0]\n"
          ]
        }
      ]
    },
    {
      "cell_type": "code",
      "source": [
        "#10  Create a Python program that uses `filter()` to remove all the vowels from a given string."
      ],
      "metadata": {
        "id": "8wnxbMBtoQ82"
      },
      "execution_count": null,
      "outputs": []
    }
  ]
}